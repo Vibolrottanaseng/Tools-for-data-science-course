{
 "cells": [
  {
   "cell_type": "markdown",
   "id": "6a7ad870-a479-472e-87bc-dc07864b0ceb",
   "metadata": {},
   "source": [
    "# Data Science Tools and Ecosystem"
   ]
  },
  {
   "cell_type": "markdown",
   "id": "5cab26bd-c9c1-4784-bd0e-ec3dbd6396a5",
   "metadata": {},
   "source": [
    "In this notebook, Data Science Tools and Ecosystem are summarized.\n"
   ]
  },
  {
   "cell_type": "markdown",
   "id": "7406038a-3593-4162-afa4-4a5ecbd417b9",
   "metadata": {},
   "source": [
    "**Objectives**\n",
    "The objectives of this notebook is the snapshot of Tools for data science course. It includes essentials library for data science and also how to use juupyter notebook. \n",
    "\n",
    "The popular laguage in data science field are:\n",
    "    <ol>\n",
    "<li>python</li>\n",
    "<li>R</li>\n",
    "<li>sql</li>\n",
    "</ol>\n",
    "\n",
    "The popular library for data science are: \n",
    "    <ol>\n",
    "<li>ggplot</li>\n",
    "<li>panda</li>\n",
    "<li>seaborn</li>\n",
    "</ol>"
   ]
  },
  {
   "cell_type": "markdown",
   "id": "81991095-3d3e-42be-a5e4-5d510f2f4713",
   "metadata": {},
   "source": [
    "## Author\n",
    "VIBOLROTTANA SENG"
   ]
  },
  {
   "cell_type": "markdown",
   "id": "dcda2702-29a2-4e3b-8ee4-b0beacbac44c",
   "metadata": {},
   "source": [
    "Some of the popular languages that Data Scientists use are:\n",
    "    <ol>\n",
    "<li>python</li>\n",
    "<li>R</li>\n",
    "<li>sql</li>\n",
    "</ol>"
   ]
  },
  {
   "cell_type": "markdown",
   "id": "a4fed11c-1552-47a2-a3cd-79c462f167bb",
   "metadata": {},
   "source": [
    "Some of the commonly used libraries used by Data Scientists include:\n",
    "    <ol>\n",
    "<li>ggplot</li>\n",
    "<li>panda</li>\n",
    "<li>seaborn</li>\n",
    "</ol>"
   ]
  },
  {
   "cell_type": "markdown",
   "id": "682b1c7d-bdf2-42de-800b-964a717092a1",
   "metadata": {
    "tags": []
   },
   "source": [
    "Some of the commonly used libraries used by Data Scientists include:\n",
    "| Tools|\n",
    "| --- |\n",
    "| Jupyter Notebook |\n",
    "| RStudio |\n",
    "| Apache Spark |"
   ]
  },
  {
   "cell_type": "markdown",
   "id": "3c20fd44-7966-4ea8-9ccd-2f5d060c3626",
   "metadata": {},
   "source": [
    "### Below are a few examples of evaluating arithmetic expressions in Python"
   ]
  },
  {
   "cell_type": "code",
   "execution_count": 1,
   "id": "19ba93b5-f2fa-4fe0-bb6a-3d5e084d1a0d",
   "metadata": {
    "tags": []
   },
   "outputs": [
    {
     "data": {
      "text/plain": [
       "17"
      ]
     },
     "execution_count": 1,
     "metadata": {},
     "output_type": "execute_result"
    }
   ],
   "source": [
    "#This a simple arithmetic expression to mutiply then add integers\n",
    "(3*4)+5"
   ]
  },
  {
   "cell_type": "code",
   "execution_count": 2,
   "id": "d6fcc319-9a17-4cd8-b4b8-13915c110cd7",
   "metadata": {
    "tags": []
   },
   "outputs": [
    {
     "data": {
      "text/plain": [
       "3.3333333333333335"
      ]
     },
     "execution_count": 2,
     "metadata": {},
     "output_type": "execute_result"
    }
   ],
   "source": [
    "#This will convert 200 minutes to hours by diving by 60\n",
    "200/60"
   ]
  }
 ],
 "metadata": {
  "kernelspec": {
   "display_name": "Python",
   "language": "python",
   "name": "conda-env-python-py"
  },
  "language_info": {
   "codemirror_mode": {
    "name": "ipython",
    "version": 3
   },
   "file_extension": ".py",
   "mimetype": "text/x-python",
   "name": "python",
   "nbconvert_exporter": "python",
   "pygments_lexer": "ipython3",
   "version": "3.7.12"
  }
 },
 "nbformat": 4,
 "nbformat_minor": 5
}
